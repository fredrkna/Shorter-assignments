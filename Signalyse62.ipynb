{
 "cells": [
  {
   "cell_type": "code",
   "execution_count": 7,
   "metadata": {},
   "outputs": [
    {
     "name": "stdout",
     "output_type": "stream",
     "text": [
      "numerator = [   0.    0. 1000.] and denominator = [1.00e+00 7.00e+01 1.07e+03 2.00e+03]\n"
     ]
    }
   ],
   "source": [
    "import numpy as np\n",
    "from scipy import signal\n",
    "from matplotlib import pyplot as plt\n",
    "R1, R2, L1, L2, c = 100, 100, 2, 5, 0.01\n",
    "\n",
    "A = np.array([[-R1/L1, 0, -1/L1], [0, -R2/L2, -1/L2], [1/c, 1/c, 0]])\n",
    "B = np.array([[1/L1], [0], [0]])\n",
    "C = np.array([[0, -R2, 0]])\n",
    "D = np.array([[0]])\n",
    "\n",
    "sys = signal.lti(A, B, C, D)\n",
    "transf = signal.TransferFunction(sys)\n",
    "print(\"numerator =\", np.round(transf.num, 5), \"and denominator =\", np.round(transf.den, 5))"
   ]
  }
 ],
 "metadata": {
  "kernelspec": {
   "display_name": "Python 3",
   "language": "python",
   "name": "python3"
  },
  "language_info": {
   "codemirror_mode": {
    "name": "ipython",
    "version": 3
   },
   "file_extension": ".py",
   "mimetype": "text/x-python",
   "name": "python",
   "nbconvert_exporter": "python",
   "pygments_lexer": "ipython3",
   "version": "3.7.4"
  }
 },
 "nbformat": 4,
 "nbformat_minor": 2
}
